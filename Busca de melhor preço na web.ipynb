{
 "cells": [
  {
   "cell_type": "code",
   "execution_count": 3,
   "metadata": {},
   "outputs": [],
   "source": [
    "import pandas as pd\n",
    "from selenium import webdriver\n",
    "import yagmail\n",
    "\n",
    "usuario = yagmail.SMTP(user='victorpamponemacedo@gmail.com', password='Victor1402.')"
   ]
  },
  {
   "cell_type": "code",
   "execution_count": 4,
   "metadata": {},
   "outputs": [
    {
     "data": {
      "text/html": [
       "<div>\n",
       "<style scoped>\n",
       "    .dataframe tbody tr th:only-of-type {\n",
       "        vertical-align: middle;\n",
       "    }\n",
       "\n",
       "    .dataframe tbody tr th {\n",
       "        vertical-align: top;\n",
       "    }\n",
       "\n",
       "    .dataframe thead th {\n",
       "        text-align: right;\n",
       "    }\n",
       "</style>\n",
       "<table border=\"1\" class=\"dataframe\">\n",
       "  <thead>\n",
       "    <tr style=\"text-align: right;\">\n",
       "      <th></th>\n",
       "      <th>Unnamed: 0</th>\n",
       "      <th>Unnamed: 0.1</th>\n",
       "      <th>Link Produto</th>\n",
       "      <th>Amazon</th>\n",
       "      <th>Lojas Americanas</th>\n",
       "      <th>Magazine Luiza</th>\n",
       "      <th>Preço Original</th>\n",
       "      <th>Preço Atual</th>\n",
       "      <th>Local</th>\n",
       "    </tr>\n",
       "  </thead>\n",
       "  <tbody>\n",
       "    <tr>\n",
       "      <th>0</th>\n",
       "      <td>0</td>\n",
       "      <td>0</td>\n",
       "      <td>Macbook Air M1 8GB</td>\n",
       "      <td>https://www.amazon.com.br/Apple-MacBook-13-3-C...</td>\n",
       "      <td>https://www.americanas.com.br/produto/25450804...</td>\n",
       "      <td>https://www.magazineluiza.com.br/macbook-air-1...</td>\n",
       "      <td>8000</td>\n",
       "      <td>7999.00</td>\n",
       "      <td>Amazon</td>\n",
       "    </tr>\n",
       "    <tr>\n",
       "      <th>1</th>\n",
       "      <td>1</td>\n",
       "      <td>1</td>\n",
       "      <td>Acer Nitro 5 I7 8GB</td>\n",
       "      <td>https://www.amazon.com.br/Notebook-Aspire-AN51...</td>\n",
       "      <td>https://www.americanas.com.br/produto/32516345...</td>\n",
       "      <td>https://www.magazineluiza.com.br/notebook-game...</td>\n",
       "      <td>7125</td>\n",
       "      <td>7124.05</td>\n",
       "      <td>Amazon</td>\n",
       "    </tr>\n",
       "  </tbody>\n",
       "</table>\n",
       "</div>"
      ],
      "text/plain": [
       "   Unnamed: 0  Unnamed: 0.1         Link Produto  \\\n",
       "0           0             0   Macbook Air M1 8GB   \n",
       "1           1             1  Acer Nitro 5 I7 8GB   \n",
       "\n",
       "                                              Amazon  \\\n",
       "0  https://www.amazon.com.br/Apple-MacBook-13-3-C...   \n",
       "1  https://www.amazon.com.br/Notebook-Aspire-AN51...   \n",
       "\n",
       "                                    Lojas Americanas  \\\n",
       "0  https://www.americanas.com.br/produto/25450804...   \n",
       "1  https://www.americanas.com.br/produto/32516345...   \n",
       "\n",
       "                                      Magazine Luiza  Preço Original  \\\n",
       "0  https://www.magazineluiza.com.br/macbook-air-1...            8000   \n",
       "1  https://www.magazineluiza.com.br/notebook-game...            7125   \n",
       "\n",
       "   Preço Atual   Local  \n",
       "0      7999.00  Amazon  \n",
       "1      7124.05  Amazon  "
      ]
     },
     "metadata": {},
     "output_type": "display_data"
    }
   ],
   "source": [
    "produtos =  pd.read_excel(r'Produtos.xlsx')\n",
    "produtos = produtos.fillna('-')\n",
    "display(produtos)"
   ]
  },
  {
   "cell_type": "code",
   "execution_count": 5,
   "metadata": {},
   "outputs": [],
   "source": [
    "def transformar_texto(texto):\n",
    "    return float(texto.replace('R$','').replace('.','').replace(',','.'))"
   ]
  },
  {
   "cell_type": "code",
   "execution_count": 9,
   "metadata": {},
   "outputs": [
    {
     "name": "stderr",
     "output_type": "stream",
     "text": [
      "<ipython-input-9-fc81445c9b33>:12: DeprecationWarning: find_element_by_* commands are deprecated. Please use find_element() instead\n",
      "  preco_amazon = driver.find_element_by_id(\"price_inside_buybox\").text\n"
     ]
    },
    {
     "name": "stdout",
     "output_type": "stream",
     "text": [
      "Produto Macbook Air M1 8GB indisponivel na Amazon\n"
     ]
    },
    {
     "name": "stderr",
     "output_type": "stream",
     "text": [
      "<ipython-input-9-fc81445c9b33>:25: DeprecationWarning: find_element_by_* commands are deprecated. Please use find_element() instead\n",
      "  preco_lame = driver.find_element_by_class_name('src__BestPrice-sc-1jvw02c-5').text\n",
      "<ipython-input-9-fc81445c9b33>:34: DeprecationWarning: find_element_by_* commands are deprecated. Please use find_element() instead\n",
      "  preco_mglu = driver.find_element_by_class_name('price-template__text').text\n"
     ]
    },
    {
     "name": "stdout",
     "output_type": "stream",
     "text": [
      "Produto Macbook Air M1 8GB indisponivel na Magazine Luiza\n",
      "Produto Acer Nitro 5 I7 8GB indisponivel na Amazon\n",
      "Produto Acer Nitro 5 I7 8GB indisponivel na Lojas Americanas\n",
      "Produto Acer Nitro 5 I7 8GB indisponivel na Magazine Luiza\n"
     ]
    }
   ],
   "source": [
    "driver = webdriver.Chrome()\n",
    "# Para \"esconder a pagina da internet, mas deixando ela aberta\" \n",
    "# driver.set_window_position(-10000,0)\n",
    "\n",
    "enviar_email = False\n",
    "desconto_min = 0.2\n",
    "\n",
    "for i, linha in produtos.iterrows():\n",
    "    # Amazon\n",
    "    driver.get(linha['Amazon'])\n",
    "    try:\n",
    "        preco_amazon = driver.find_element_by_id(\"price_inside_buybox\").text\n",
    "        preco_amazon = transformar_texto(preco_amazon)\n",
    "    except:\n",
    "        try:\n",
    "            preco_amazon = driver.find_element_by_css_sector('#olp_feature_div span.a-size-base').text\n",
    "            preco_amazon = transformar_texto(preco_amazon)\n",
    "        except:\n",
    "            print('Produto {} indisponivel na Amazon'.format(linha['Link Produto']))\n",
    "            preco_amazon = linha['Preço Original'] * 4\n",
    "\n",
    "    # Lojas Americanas\n",
    "    driver.get(linha['Lojas Americanas'])\n",
    "    try:\n",
    "        preco_lame = driver.find_element_by_class_name('src__BestPrice-sc-1jvw02c-5').text\n",
    "        preco_lame = transformar_texto(preco_lame)\n",
    "    except:\n",
    "            print('Produto {} indisponivel na Lojas Americanas'.format(linha['Link Produto']))\n",
    "            preco_lame = linha['Preço Original'] * 4\n",
    "\n",
    "    # Magazine Luiza\n",
    "    driver.get(linha['Magazine Luiza'])\n",
    "    try:\n",
    "        preco_mglu = driver.find_element_by_class_name('price-template__text').text\n",
    "        preco_mglu = transformar_texto(preco_mglu)\n",
    "    except:\n",
    "            print('Produto {} indisponivel na Magazine Luiza'.format(linha['Link Produto']))\n",
    "            preco_mglu = linha['Preço Original'] * 4\n",
    "\n",
    "    preco_original = linha['Preço Original']\n",
    "    lista_precos = [(preco_amazon, 'Amazon'), (preco_lame, 'Lojas Americanas'), (preco_mglu, 'Magazine Luiza'), (preco_original, 'Preço Original')]\n",
    "    lista_precos.sort()\n",
    "    \n",
    "    produtos.loc[i, 'Preço Atual'] = lista_precos[0][0]\n",
    "    produtos.loc[i, 'Local'] = lista_precos[0][1]\n",
    "    \n",
    "    if lista_precos[0][0] <= preco_original*(1-desconto_min):\n",
    "        enviar_email = True\n",
    "        "
   ]
  },
  {
   "cell_type": "code",
   "execution_count": 10,
   "metadata": {},
   "outputs": [
    {
     "data": {
      "text/html": [
       "<div>\n",
       "<style scoped>\n",
       "    .dataframe tbody tr th:only-of-type {\n",
       "        vertical-align: middle;\n",
       "    }\n",
       "\n",
       "    .dataframe tbody tr th {\n",
       "        vertical-align: top;\n",
       "    }\n",
       "\n",
       "    .dataframe thead th {\n",
       "        text-align: right;\n",
       "    }\n",
       "</style>\n",
       "<table border=\"1\" class=\"dataframe\">\n",
       "  <thead>\n",
       "    <tr style=\"text-align: right;\">\n",
       "      <th></th>\n",
       "      <th>Unnamed: 0</th>\n",
       "      <th>Link Produto</th>\n",
       "      <th>Amazon</th>\n",
       "      <th>Lojas Americanas</th>\n",
       "      <th>Magazine Luiza</th>\n",
       "      <th>Preço Original</th>\n",
       "      <th>Preço Atual</th>\n",
       "      <th>Local</th>\n",
       "    </tr>\n",
       "  </thead>\n",
       "  <tbody>\n",
       "    <tr>\n",
       "      <th>0</th>\n",
       "      <td>0</td>\n",
       "      <td>Macbook Air M1 8GB</td>\n",
       "      <td>https://www.amazon.com.br/Apple-MacBook-13-3-C...</td>\n",
       "      <td>https://www.americanas.com.br/produto/25450804...</td>\n",
       "      <td>https://www.magazineluiza.com.br/macbook-air-1...</td>\n",
       "      <td>9679</td>\n",
       "      <td>7999.00</td>\n",
       "      <td>Amazon</td>\n",
       "    </tr>\n",
       "    <tr>\n",
       "      <th>1</th>\n",
       "      <td>1</td>\n",
       "      <td>Acer Nitro 5 I7 8GB</td>\n",
       "      <td>https://www.amazon.com.br/Notebook-Aspire-AN51...</td>\n",
       "      <td>https://www.americanas.com.br/produto/32516345...</td>\n",
       "      <td>https://www.magazineluiza.com.br/notebook-game...</td>\n",
       "      <td>9489</td>\n",
       "      <td>7124.05</td>\n",
       "      <td>Amazon</td>\n",
       "    </tr>\n",
       "  </tbody>\n",
       "</table>\n",
       "</div>"
      ],
      "text/plain": [
       "   Unnamed: 0         Link Produto  \\\n",
       "0           0   Macbook Air M1 8GB   \n",
       "1           1  Acer Nitro 5 I7 8GB   \n",
       "\n",
       "                                              Amazon  \\\n",
       "0  https://www.amazon.com.br/Apple-MacBook-13-3-C...   \n",
       "1  https://www.amazon.com.br/Notebook-Aspire-AN51...   \n",
       "\n",
       "                                    Lojas Americanas  \\\n",
       "0  https://www.americanas.com.br/produto/25450804...   \n",
       "1  https://www.americanas.com.br/produto/32516345...   \n",
       "\n",
       "                                      Magazine Luiza  Preço Original  \\\n",
       "0  https://www.magazineluiza.com.br/macbook-air-1...            9679   \n",
       "1  https://www.magazineluiza.com.br/notebook-game...            9489   \n",
       "\n",
       "   Preço Atual   Local  \n",
       "0      7999.00  Amazon  \n",
       "1      7124.05  Amazon  "
      ]
     },
     "metadata": {},
     "output_type": "display_data"
    }
   ],
   "source": [
    "display(produtos)"
   ]
  },
  {
   "cell_type": "code",
   "execution_count": 10,
   "metadata": {},
   "outputs": [],
   "source": [
    "corpo_email = '''\n",
    "<p>Hi <b>WizPython</b>, are you ok ?</p>\n",
    "<p>Esse(s) é/são o(s) produtos</p>\n",
    "<p>Att, you</p>\n",
    "'''\n",
    "\n",
    "tabela_filtrada = produtos.loc[produtos['Preço Atual'] <= produtos['Preço Original']*(1-desconto_min), :]"
   ]
  },
  {
   "cell_type": "code",
   "execution_count": 11,
   "metadata": {},
   "outputs": [],
   "source": [
    "# Utualizando o arquivo com novo valor\n",
    "produtos.to_excel('Produtos.xlsx')\n",
    "\n",
    "# Disparo de e-mail caso esteja com mais de 20% de desconto\n",
    "if enviar_email:\n",
    "    usuario.send(to='wizpython@gmail.com', \n",
    "                 subject=f'Produto com mais de {desconto_min:.0%} de desconto!',\\\n",
    "             contents=corpo_email)\n",
    "    \n",
    "    "
   ]
  }
 ],
 "metadata": {
  "kernelspec": {
   "display_name": "Python 3",
   "language": "python",
   "name": "python3"
  },
  "language_info": {
   "codemirror_mode": {
    "name": "ipython",
    "version": 3
   },
   "file_extension": ".py",
   "mimetype": "text/x-python",
   "name": "python",
   "nbconvert_exporter": "python",
   "pygments_lexer": "ipython3",
   "version": "3.8.5"
  },
  "toc": {
   "base_numbering": 1,
   "nav_menu": {},
   "number_sections": true,
   "sideBar": true,
   "skip_h1_title": false,
   "title_cell": "Table of Contents",
   "title_sidebar": "Contents",
   "toc_cell": false,
   "toc_position": {},
   "toc_section_display": true,
   "toc_window_display": false
  },
  "varInspector": {
   "cols": {
    "lenName": 16,
    "lenType": 16,
    "lenVar": 40
   },
   "kernels_config": {
    "python": {
     "delete_cmd_postfix": "",
     "delete_cmd_prefix": "del ",
     "library": "var_list.py",
     "varRefreshCmd": "print(var_dic_list())"
    },
    "r": {
     "delete_cmd_postfix": ") ",
     "delete_cmd_prefix": "rm(",
     "library": "var_list.r",
     "varRefreshCmd": "cat(var_dic_list()) "
    }
   },
   "types_to_exclude": [
    "module",
    "function",
    "builtin_function_or_method",
    "instance",
    "_Feature"
   ],
   "window_display": false
  }
 },
 "nbformat": 4,
 "nbformat_minor": 4
}
